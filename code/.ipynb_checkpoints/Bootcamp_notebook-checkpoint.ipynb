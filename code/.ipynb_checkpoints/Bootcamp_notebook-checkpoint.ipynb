{
 "cells": [
  {
   "cell_type": "markdown",
   "id": "626822a3-fdc9-4313-b3ac-250f6ca95ae0",
   "metadata": {},
   "source": [
    "# Bootcamp programming file"
   ]
  },
  {
   "cell_type": "code",
   "execution_count": 46,
   "id": "bc183ef1-7084-4b79-ac16-612c604783bb",
   "metadata": {},
   "outputs": [],
   "source": [
    "my_integers = [1, 2, 3, 4, 5]\n",
    "\n",
    "\n",
    "print(list)"
   ]
  },
  {
   "cell_type": "code",
   "execution_count": 66,
   "id": "0d2e2210-1503-420c-a833-99d8f869c4a3",
   "metadata": {},
   "outputs": [
    {
     "name": "stdout",
     "output_type": "stream",
     "text": [
      "[1, 2, 3, 4, 5]\n"
     ]
    }
   ],
   "source": [
    "list = []\n",
    "\n",
    "for i, a in enumerate (my_integers): \n",
    "    list.append(a)\n",
    "\n",
    "\n",
    "print(list)"
   ]
  },
  {
   "cell_type": "code",
   "execution_count": 68,
   "id": "b856c37b-2a5c-4d1c-88a2-889c68f330e7",
   "metadata": {},
   "outputs": [
    {
     "name": "stdout",
     "output_type": "stream",
     "text": [
      "[10, 9, 8, 7, 6, 5, 4, 3, 2, 1, 'ignition']\n"
     ]
    }
   ],
   "source": [
    "count_up = ('ignition', 1, 2, 3, 4, 5, 6, 7, 8 ,9, 10)\n",
    "count_down = []\n",
    "\n",
    "for count in reversed(count_up):\n",
    "    count_down.append(count)\n",
    "\n",
    "print(count_down)"
   ]
  },
  {
   "cell_type": "code",
   "execution_count": 70,
   "id": "6663a075-a328-4ef0-8938-b56fc51779f1",
   "metadata": {},
   "outputs": [
    {
     "name": "stdout",
     "output_type": "stream",
     "text": [
      "Codon not found in sequence.\n"
     ]
    }
   ],
   "source": [
    "seq='GACAGACUCCAUGCACGUGGGUAUCUGUC'\n",
    "\n",
    "# Define codon of interest\n",
    "codon = 'GCC'\n",
    "\n",
    "# Initialize sequence index\n",
    "i = 0\n",
    "\n",
    "# Scan sequence until we hit the start codon or the end of the sequence\n",
    "while seq[i:i+3] != codon and i < len(seq):\n",
    "    i += 1\n",
    "\n",
    "# Show the result\n",
    "if i == len(seq):\n",
    "    print('Codon not found in sequence.')\n",
    "else:\n",
    "    print('The codon starts at index', i)\n"
   ]
  },
  {
   "cell_type": "code",
   "execution_count": 1,
   "id": "63cfb091-8089-40eb-9325-4d0714d9b656",
   "metadata": {},
   "outputs": [],
   "source": [
    "def think_too_much():\n",
    "    \"\"\"Express Caesar's skepticism about Cassius\"\"\"\n",
    "    print(\"\"\"Yond Cassius has a lean and hungry look,\n",
    "He thinks too much; such men are dangerous.\"\"\")"
   ]
  },
  {
   "cell_type": "code",
   "execution_count": 5,
   "id": "62612ad8-76ec-45b8-af95-26e961fd87a1",
   "metadata": {},
   "outputs": [
    {
     "name": "stdout",
     "output_type": "stream",
     "text": [
      "Yond Cassius has a lean and hungry look,\n",
      "He thinks too much; such men are dangerous.\n"
     ]
    }
   ],
   "source": [
    "return_val=think_too_much()\n",
    "\n",
    "# Print a blank line\n",
    "#print()\n",
    "\n",
    "# Print the return value\n",
    "#print(return_val)"
   ]
  },
  {
   "cell_type": "code",
   "execution_count": 19,
   "id": "6b8dbb7c-b0ad-4a50-8c1c-d3dbf8b21d60",
   "metadata": {},
   "outputs": [],
   "source": [
    "def complement_base(base):\n",
    "    \"\"\"Returns the Watson-Crick complement of a base.\"\"\"\n",
    "    if base in 'Aa':\n",
    "        return 'T'\n",
    "    elif base in 'Tt':\n",
    "        return 'A'\n",
    "    elif base in 'Gg':\n",
    "        return 'C'\n",
    "    else:\n",
    "        return 'G'\n",
    "\n",
    "\n",
    "def reverse_complement(seq):\n",
    "    \"\"\"Compute reverse complement of a sequence.\"\"\"\n",
    "   # Initialize reverse complement\n",
    "    rev_seq = ''\n",
    "\n",
    "    # Loop through and populate list with reverse complement\n",
    "    for base in reversed(seq):\n",
    "        rev_seq += complement_base(base)\n",
    "\n",
    "    return rev_seq"
   ]
  },
  {
   "cell_type": "markdown",
   "id": "aca95c76-12d2-4c77-8ea6-36e86ad38e8c",
   "metadata": {},
   "source": [
    "difference between print and return: \n",
    "note: return can only be used within function writing\n",
    "if return in function: function returns a value, that can be used for further calculation\n",
    "if print in function: function directly prints out sth, but has no return value\n",
    "\n",
    "  "
   ]
  },
  {
   "cell_type": "code",
   "execution_count": 20,
   "id": "14b25aa0-1c54-4b87-a357-c9d94c2452a4",
   "metadata": {},
   "outputs": [
    {
     "name": "stdout",
     "output_type": "stream",
     "text": [
      "GGTACCGG\n",
      "['G', 'G', 'C', 'C', 'A', 'T', 'G', 'G']\n"
     ]
    },
    {
     "data": {
      "text/plain": [
       "'CCGGTACC'"
      ]
     },
     "execution_count": 20,
     "metadata": {},
     "output_type": "execute_result"
    }
   ],
   "source": [
    "seq=\"GGTACCGG\"\n",
    "rev_seq=reversed(seq)\n",
    "print(seq)\n",
    "print(list(rev_seq))\n",
    "reverse_complement(seq)"
   ]
  },
  {
   "cell_type": "code",
   "execution_count": 29,
   "id": "5da27bf9-7ec8-449b-81c9-3a1527e9041f",
   "metadata": {},
   "outputs": [],
   "source": [
    "def display_complements(seq):\n",
    "    \"\"\"Print sequence above its reverse complement.\"\"\"\n",
    "    # Compute the reverse complement\n",
    "    rev_comp = reverse_complement(seq)\n",
    "\n",
    "    # Print template\n",
    "    print(seq)\n",
    "\n",
    "    # Print \"base pairs\"\n",
    "    for base in seq:\n",
    "        print('|', end='')\n",
    "\n",
    "    # Print final newline character after base pairs\n",
    "    print()\n",
    "\n",
    "    # Print reverse complement\n",
    "    for base in reversed(rev_comp):\n",
    "        print(base, end='')\n",
    "\n",
    "    # Print final newline character\n",
    "    #print()"
   ]
  },
  {
   "cell_type": "code",
   "execution_count": 30,
   "id": "d65a43da-e72d-490c-8c72-8a79f4222932",
   "metadata": {},
   "outputs": [
    {
     "name": "stdout",
     "output_type": "stream",
     "text": [
      "GGTACCGG\n",
      "||||||||\n",
      "CCATGGCC"
     ]
    }
   ],
   "source": [
    "seq=\"GGTACCGG\"\n",
    "display_complements(seq)"
   ]
  },
  {
   "cell_type": "code",
   "execution_count": null,
   "id": "e9e6d347-64b4-4cd2-a8c2-d6d0d662bc1f",
   "metadata": {},
   "outputs": [],
   "source": [
    "def complement_base(base, material='DNA'):\n",
    "    \"\"\"Returns the Watson-Crick complement of a base.\"\"\"\n",
    "    if base in 'Aa':\n",
    "        if material == 'DNA':\n",
    "            return 'T'\n",
    "        elif material == 'RNA':\n",
    "            return 'U'\n",
    "    elif base in 'TtUu':\n",
    "        return 'A'\n",
    "    elif base in 'Gg':\n",
    "        return 'C'\n",
    "    else:\n",
    "        return 'G'\n",
    "\n",
    "def reverse_complement(seq, material='DNA'):\n",
    "    \"\"\"Compute reverse complement of a sequence.\"\"\"\n",
    "    # Initialize reverse complement\n",
    "    rev_seq = ''\n",
    "\n",
    "    # Loop through and populate list with reverse complement\n",
    "    for base in reversed(seq):\n",
    "        rev_seq += complement_base(base, material=material)\n",
    "\n",
    "    return rev_seq"
   ]
  },
  {
   "cell_type": "code",
   "execution_count": 39,
   "id": "915f3edb-1bf2-4c29-be34-d7ef3fab93b4",
   "metadata": {},
   "outputs": [],
   "source": [
    "def is_almost_right(a, b, c):\n",
    "    \"\"\"\n",
    "    Checks to see if a triangle with side lengths\n",
    "    `a`, `b`, and `c` is right.\n",
    "    \"\"\"\n",
    "    # Use sorted(), which gives a sorted list\n",
    "    a, b, c = sorted([a, b, c])\n",
    "\n",
    "    # Check to see if it is almost a right triangle\n",
    "    if abs(a**2 + b**2 - c**2) < 1e-12:\n",
    "        return True\n",
    "    else:\n",
    "        return False"
   ]
  },
  {
   "cell_type": "code",
   "execution_count": 35,
   "id": "eb83df75-5875-414d-b0bf-6bbd0ad8bf56",
   "metadata": {},
   "outputs": [
    {
     "name": "stdout",
     "output_type": "stream",
     "text": [
      "(5, 3, 4)\n",
      "[3, 4, 5]\n",
      "<class 'tuple'>\n",
      "<class 'list'>\n"
     ]
    }
   ],
   "source": [
    "string = 5, 3, 4\n",
    "sort=sorted(string)\n",
    "print(string)\n",
    "print(sort)\n",
    "print(type(string))\n",
    "print(type(sort))"
   ]
  },
  {
   "cell_type": "code",
   "execution_count": 40,
   "id": "20ccb407-79a2-4395-8fac-facbf3cc0f44",
   "metadata": {},
   "outputs": [
    {
     "data": {
      "text/plain": [
       "True"
      ]
     },
     "execution_count": 40,
     "metadata": {},
     "output_type": "execute_result"
    }
   ],
   "source": [
    "side_lengths = (13, 5, 12)\n",
    "is_almost_right(*side_lengths) #uses * to unpack elements of tuple, called a \"splat\""
   ]
  },
  {
   "cell_type": "code",
   "execution_count": 1,
   "id": "cea97fb1-947b-4701-98e2-c36b68730a40",
   "metadata": {},
   "outputs": [
    {
     "name": "stdout",
     "output_type": "stream",
     "text": [
      "{'TTT': 'F', 'TTC': 'F', 'TTA': 'L', 'TTG': 'L', 'TCT': 'S', 'TCC': 'S', 'TCA': 'S', 'TCG': 'S', 'TAT': 'Y', 'TAC': 'Y', 'TAA': '*', 'TAG': '*', 'TGT': 'C', 'TGC': 'C', 'TGA': '*', 'TGG': 'W', 'CTT': 'L', 'CTC': 'L', 'CTA': 'L', 'CTG': 'L', 'CCT': 'P', 'CCC': 'P', 'CCA': 'P', 'CCG': 'P', 'CAT': 'H', 'CAC': 'H', 'CAA': 'Q', 'CAG': 'Q', 'CGT': 'R', 'CGC': 'R', 'CGA': 'R', 'CGG': 'R', 'ATT': 'I', 'ATC': 'I', 'ATA': 'I', 'ATG': 'M', 'ACT': 'T', 'ACC': 'T', 'ACA': 'T', 'ACG': 'T', 'AAT': 'N', 'AAC': 'N', 'AAA': 'K', 'AAG': 'K', 'AGT': 'S', 'AGC': 'S', 'AGA': 'R', 'AGG': 'R', 'GTT': 'V', 'GTC': 'V', 'GTA': 'V', 'GTG': 'V', 'GCT': 'A', 'GCC': 'A', 'GCA': 'A', 'GCG': 'A', 'GAT': 'D', 'GAC': 'D', 'GAA': 'E', 'GAG': 'E', 'GGT': 'G', 'GGC': 'G', 'GGA': 'G', 'GGG': 'G'}\n"
     ]
    }
   ],
   "source": [
    "# The set of DNA bases\n",
    "bases = ['T', 'C', 'A', 'G']\n",
    "\n",
    "# Build list of codons\n",
    "codon_list = []\n",
    "for first_base in bases:\n",
    "    for second_base in bases:\n",
    "        for third_base in bases:\n",
    "            codon_list += [first_base + second_base + third_base]\n",
    "\n",
    "# The amino acids that are coded for (* = STOP codon)\n",
    "amino_acids = 'FFLLSSSSYY**CC*WLLLLPPPPHHQQRRRRIIIMTTTTNNKKSSRRVVVVAAAADDEEGGGG'\n",
    "\n",
    "# Build dictionary from tuple of 2-tuples (technically an iterator, but it works)\n",
    "codons = dict(zip(codon_list, amino_acids))\n",
    "\n",
    "# Show that we did it\n",
    "print(codons)"
   ]
  },
  {
   "cell_type": "code",
   "execution_count": 15,
   "id": "b40b964b-4200-4403-8b34-17dac363de57",
   "metadata": {},
   "outputs": [],
   "source": [
    "def concatenate_sequences(a, b, **kwargs):\n",
    "    \"\"\"Concatenate (combine) 2 or more sequences.\"\"\"\n",
    "    seq = a + b\n",
    "\n",
    "    for key in kwargs:\n",
    "        seq += kwargs[key]\n",
    "\n",
    "    return seq"
   ]
  },
  {
   "cell_type": "code",
   "execution_count": 16,
   "id": "57bbd151-9bbf-44de-840a-b02e03f06800",
   "metadata": {},
   "outputs": [
    {
     "data": {
      "text/plain": [
       "'TGACACCAGGGAGGGGGGGGGAAAATTTTT'"
      ]
     },
     "execution_count": 16,
     "metadata": {},
     "output_type": "execute_result"
    }
   ],
   "source": [
    "concatenate_sequences('TGACAC', 'CAGGGA', c='GGGGGGGGG', d='AAAATTTTT')"
   ]
  },
  {
   "cell_type": "code",
   "execution_count": null,
   "id": "048695d0-27ab-4e02-9070-4b9e45537418",
   "metadata": {},
   "outputs": [],
   "source": [
    "my_dict = {\"a\": \"TGACAC\", \"b\": \"CAGGGA\", \"c\": \"GGGGGGGGG\", \"d\": \"AAAATTTTT\"}\n",
    "concatenate_sequences(**my_dict) #passes in whole dictionary"
   ]
  }
 ],
 "metadata": {
  "kernelspec": {
   "display_name": "Python 3 (ipykernel)",
   "language": "python",
   "name": "python3"
  },
  "language_info": {
   "codemirror_mode": {
    "name": "ipython",
    "version": 3
   },
   "file_extension": ".py",
   "mimetype": "text/x-python",
   "name": "python",
   "nbconvert_exporter": "python",
   "pygments_lexer": "ipython3",
   "version": "3.11.5"
  }
 },
 "nbformat": 4,
 "nbformat_minor": 5
}
