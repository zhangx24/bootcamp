{
 "cells": [
  {
   "cell_type": "markdown",
   "id": "7dfdacf0-54b1-45a3-a2b7-7515b376a520",
   "metadata": {},
   "source": [
    "# Exercises"
   ]
  },
  {
   "cell_type": "markdown",
   "id": "63556f2c-e01b-4cff-b574-336a29b1ddd7",
   "metadata": {},
   "source": [
    "Exercise 1.3 Time and type conversions"
   ]
  },
  {
   "cell_type": "code",
   "execution_count": 10,
   "id": "17135193-8db8-43c2-980f-d2c0cef29eba",
   "metadata": {},
   "outputs": [],
   "source": [
    "seconds_past_midnight = 63252"
   ]
  },
  {
   "cell_type": "code",
   "execution_count": 11,
   "id": "52b6d5fd-3c1f-4581-a5ea-357881d7c44e",
   "metadata": {
    "jp-MarkdownHeadingCollapsed": true
   },
   "outputs": [],
   "source": [
    "h=seconds_past_midnight//3600\n",
    "m=(seconds_past_midnight-h*3600)//60\n",
    "s=seconds_past_midnight-h*3600-m*60"
   ]
  },
  {
   "cell_type": "code",
   "execution_count": 14,
   "id": "581df7c1-3a67-4353-b97d-e1f3ab984030",
   "metadata": {},
   "outputs": [
    {
     "name": "stdout",
     "output_type": "stream",
     "text": [
      "17 : 34 : 12\n"
     ]
    }
   ],
   "source": [
    "print(h, \":\", m, \":\", s)"
   ]
  },
  {
   "cell_type": "markdown",
   "id": "b1ee70ad-cecc-466c-842f-f63a319a9aa4",
   "metadata": {},
   "source": [
    "Exercise 1.4: Using string methods"
   ]
  },
  {
   "cell_type": "code",
   "execution_count": 51,
   "id": "564d2868-8994-4421-b9f3-9f5740d0255e",
   "metadata": {},
   "outputs": [],
   "source": [
    "def complement_base(base):\n",
    "    \"\"\"Returns the Watson-Crick complement of a base.\"\"\"\n",
    "    if base == 'A' or base == 'a':\n",
    "        return 'T'\n",
    "    elif base == 'T' or base == 't':\n",
    "        return 'A'\n",
    "    elif base == 'G' or base == 'g':\n",
    "        return 'C'\n",
    "    else:\n",
    "        return 'G'\n",
    "\n",
    "\n",
    "def reverse_complement(seq):\n",
    "    \"\"\"Compute reverse complement of a sequence.\"\"\"\n",
    "    # Initialize reverse complement\n",
    "    rev_seq = ''\n",
    "\n",
    "    # Loop through and populate list with reverse complement\n",
    "    for base in seq:\n",
    "        rev_seq += complement_base(base)\n",
    "\n",
    "    return rev_seq[::-1]"
   ]
  },
  {
   "cell_type": "code",
   "execution_count": 52,
   "id": "0f4510fc-a38f-494a-8e65-b6ab3eccbdcf",
   "metadata": {},
   "outputs": [
    {
     "data": {
      "text/plain": [
       "'TGCAACTGC'"
      ]
     },
     "execution_count": 52,
     "metadata": {},
     "output_type": "execute_result"
    }
   ],
   "source": [
    "seq='GCAGTTGCA'\n",
    "reverse_complement(seq)"
   ]
  },
  {
   "cell_type": "code",
   "execution_count": 54,
   "id": "15419feb-1e42-4cdc-8d82-7674d7542f45",
   "metadata": {},
   "outputs": [],
   "source": [
    "def reverse_complement(seq):\n",
    "    \"\"\"Compute reverse complement of a sequence.\"\"\"\n",
    "    # Initialize rev_seq to a lowercase seq\n",
    "    rev_seq = seq.lower()\n",
    "\n",
    "    # Substitute bases\n",
    "    rev_seq = rev_seq.replace('t', 'A')\n",
    "    rev_seq = rev_seq.replace('a', 'T')\n",
    "    rev_seq = rev_seq.replace('g', 'C')\n",
    "    rev_seq = rev_seq.replace('c', 'G')\n",
    "\n",
    "    return rev_seq[::-1]"
   ]
  },
  {
   "cell_type": "code",
   "execution_count": 55,
   "id": "9fe06c17-1519-4090-8e70-27a9eb17df67",
   "metadata": {},
   "outputs": [
    {
     "data": {
      "text/plain": [
       "'TGCAACTGC'"
      ]
     },
     "execution_count": 55,
     "metadata": {},
     "output_type": "execute_result"
    }
   ],
   "source": [
    "seq='GCAGTTGCA'\n",
    "reverse_complement(seq)"
   ]
  },
  {
   "cell_type": "markdown",
   "id": "141486d9-d60d-46c4-8dfa-64fcf61edb7a",
   "metadata": {},
   "source": [
    "Exercise 1.5: Longest common substring"
   ]
  },
  {
   "cell_type": "code",
   "execution_count": 1,
   "id": "417bf839-5de7-4133-9a98-2878b86ed025",
   "metadata": {},
   "outputs": [],
   "source": [
    "def longest_common_substring(s1, s2):\n",
    "    \"\"\"Return one of the longest common substrings\"\"\"\n",
    "    # Make sure s1 is the shorter\n",
    "    if len(s1) > len(s2):\n",
    "        s1, s2 = s2, s1\n",
    "\n",
    "    # Start with the entire sequence and shorten\n",
    "    substr_len = len(s1)\n",
    "    while substr_len > 0:\n",
    "        # Try all substrings\n",
    "        for i in range(len(s1) - substr_len + 1):\n",
    "            if s1[i:i+substr_len] in s2:\n",
    "                return s1[i:i+substr_len]\n",
    "\n",
    "        substr_len -= 1\n",
    "\n",
    "    # If we haven't returned, there is no common substring\n",
    "    return ''"
   ]
  },
  {
   "cell_type": "code",
   "execution_count": null,
   "id": "3b039b3e-ca48-43be-87a3-e7739d9b7a56",
   "metadata": {},
   "outputs": [],
   "source": [
    "longest_common_substring('GATGCCATGCA', 'ATGCC')\n",
    "s1='GATGCCATGCA'\n",
    "s2='ATGCC'\n",
    "\n",
    "range(len(s1)-11+1)\n",
    "s1[1:12]"
   ]
  },
  {
   "cell_type": "markdown",
   "id": "2a5c519f-37c2-410c-81cc-26bc7f2195a1",
   "metadata": {},
   "source": [
    "Exercise 1.6: RNA secondary structure validator"
   ]
  },
  {
   "cell_type": "code",
   "execution_count": 1,
   "id": "bc32fa9b-c32f-4ad9-a7b0-7e92e1a7e1ba",
   "metadata": {},
   "outputs": [],
   "source": [
    "#a)\n",
    "def parens_count(struc):\n",
    "    \"\"\"\n",
    "    Ensures there are equal number of open and closed parentheses\n",
    "    in structure.\n",
    "    \"\"\"\n",
    "    return struc.count('(') == struc.count(')')\n"
   ]
  },
  {
   "cell_type": "code",
   "execution_count": 16,
   "id": "e46f19c4-4744-40a9-9b01-0fcaab096f0a",
   "metadata": {},
   "outputs": [
    {
     "data": {
      "text/plain": [
       "'FALSE'"
      ]
     },
     "execution_count": 16,
     "metadata": {},
     "output_type": "execute_result"
    }
   ],
   "source": [
    "paren('(((....))))')"
   ]
  },
  {
   "cell_type": "code",
   "execution_count": 2,
   "id": "ecc0113a-7971-449c-8ea6-6bb9de149d23",
   "metadata": {},
   "outputs": [],
   "source": [
    "#b) \n",
    "def dotparen_to_bp(struc): \n",
    "    bp = []\n",
    "    for i in range(len(struc)):\n",
    "        if struc[i] == '(' and struc[-(i+1)]==')':\n",
    "            bp.append((i,len(struc)-i-1))\n",
    "        i+= 1\n",
    "    return tuple(bp)\n"
   ]
  },
  {
   "cell_type": "code",
   "execution_count": 3,
   "id": "656fa478-6113-406f-976e-3830defe4661",
   "metadata": {},
   "outputs": [],
   "source": [
    "#b) solution\n",
    "def dot_parens_to_bp(struc):\n",
    "    \"\"\"\n",
    "    Convert a dot-parens structure to a list of base pairs.\n",
    "    Return False if the structure is invalid.\n",
    "    \"\"\"\n",
    "    if not parens_count(struc):\n",
    "        print('Error in input structure.')\n",
    "        return False\n",
    "\n",
    "    # Initialize list of open parens and list of base pairs\n",
    "    open_parens = []\n",
    "    bps = []\n",
    "\n",
    "    # Scan through string\n",
    "    for i, x in enumerate(struc):\n",
    "        if x == '(':\n",
    "            open_parens.append(i)\n",
    "        elif x == ')':\n",
    "            if len(open_parens) > 0:\n",
    "                bps.append((open_parens.pop(), i))\n",
    "            else:\n",
    "                print('Error in input structure.')\n",
    "                return False\n",
    "\n",
    "    # Return the result as a tuple\n",
    "    return tuple(sorted(bps))"
   ]
  },
  {
   "cell_type": "code",
   "execution_count": 24,
   "id": "a8698f88-c9d0-4e8d-bc7b-da3fe7652766",
   "metadata": {},
   "outputs": [
    {
     "name": "stdout",
     "output_type": "stream",
     "text": [
      "((2, 10), (3, 9), (4, 8), (11, 25), (12, 23), (13, 22), (14, 21), (15, 20))\n"
     ]
    }
   ],
   "source": [
    "bps=dot_parens_to_bp('..(((...)))(((((....)))).)..')\n",
    "print(bps)"
   ]
  },
  {
   "cell_type": "code",
   "execution_count": 86,
   "id": "8ebbed48-45a2-48a2-ac5e-607c15425b9b",
   "metadata": {},
   "outputs": [],
   "source": [
    "#c)\n",
    "def hairpin (struc):\n",
    "    index = dotparen_to_bp(struc)\n",
    "    if index[-1][1]-index[-1][0]>3:\n",
    "            return 'TRUE'\n",
    "    else: \n",
    "        return 'FALSE'"
   ]
  },
  {
   "cell_type": "code",
   "execution_count": 48,
   "id": "a6247d2c-6806-431f-a17e-aa2e270bd82a",
   "metadata": {},
   "outputs": [],
   "source": [
    "#c) solution\n",
    "def hairpin_check(bps):\n",
    "    \"\"\"Check to make sure no hairpins are too short.\"\"\"\n",
    "    for bp in bps:\n",
    "        if bp[1] - bp[0] < 4:\n",
    "            print('A hairpin is too short.')\n",
    "            return False\n",
    "\n",
    "    # Everything checks out\n",
    "    return True\n"
   ]
  },
  {
   "cell_type": "code",
   "execution_count": 92,
   "id": "3633a3c1-8511-46e5-bda7-a889009c872e",
   "metadata": {},
   "outputs": [
    {
     "data": {
      "text/plain": [
       "'TRUE'"
      ]
     },
     "execution_count": 92,
     "metadata": {},
     "output_type": "execute_result"
    }
   ],
   "source": [
    "struc='(.(....).)'\n",
    "hairpin(struc)"
   ]
  },
  {
   "cell_type": "code",
   "execution_count": 76,
   "id": "04b8aafa-5986-4326-aa08-8757fdada58e",
   "metadata": {},
   "outputs": [],
   "source": [
    "#d) write validator function\n",
    "\n",
    "def rna_ss_validator(seq, sec_struc, wobble=True): \n",
    "    bps=dot_parens_to_bp(sec_struc)\n",
    "    \n",
    "    if not hairpin_check(bps): \n",
    "        print('Error in input structure.')\n",
    "        return False\n",
    "\n",
    "    for i in range(len(bps)):\n",
    "        pair=seq[bps[i][0]],seq[bps[i][1]]\n",
    "        if wobble == True:\n",
    "            if pair == ('G', 'C') or pair == ('C', 'G') or pair == ('A', 'U') or pair == ('U', 'A') or pair == ('G', 'U') or pair == ('U', 'G'): \n",
    "                i+=1\n",
    "            else: \n",
    "                return False\n",
    "\n",
    "        elif wobble == False:\n",
    "            if pair == ('G', 'C') or pair == ('C', 'G') or pair == ('A', 'U') or pair == ('U', 'A'): \n",
    "                i+=1\n",
    "            else: \n",
    "                return False\n",
    "    return True"
   ]
  },
  {
   "cell_type": "code",
   "execution_count": null,
   "id": "dd05a832-3f0c-4d2e-be5e-591eceff6503",
   "metadata": {},
   "outputs": [],
   "source": [
    "#d) solution\n",
    "def rna_ss_validator(seq, sec_struc, wobble=True):\n",
    "    \"\"\"Validate and RNA structure\"\"\"\n",
    "    # Convert structure to base pairs\n",
    "    bps = dot_parens_to_bp(sec_struc)\n",
    "\n",
    "    # If this failed, the structure was invalid\n",
    "    if not bps:\n",
    "        return False\n",
    "\n",
    "    # Do the hairpin check\n",
    "    if not hairpin_check(bps):\n",
    "        return False\n",
    "\n",
    "    # Possible base pairs\n",
    "    if wobble:\n",
    "        ok_bps = ('gc', 'cg', 'au', 'ua', 'gu', 'ug')\n",
    "    else:\n",
    "        ok_bps = ('gc', 'cg', 'au', 'ua')\n",
    "\n",
    "    # Check complementarity\n",
    "    for bp in bps:\n",
    "        bp_str = (seq[bp[0]] + seq[bp[1]]).lower()\n",
    "        if bp_str not in ok_bps:\n",
    "            print('Invalid base pair.')\n",
    "            return False\n",
    "\n",
    "    # Everything passed\n",
    "    return True"
   ]
  },
  {
   "cell_type": "code",
   "execution_count": 84,
   "id": "8ac12be5-dc4f-4262-a42e-9a4fe91629b1",
   "metadata": {},
   "outputs": [
    {
     "name": "stdout",
     "output_type": "stream",
     "text": [
      "Should be True:\n",
      "True\n",
      "True\n",
      "True\n",
      "True\n",
      "\n",
      "Should be False:\n",
      "False \n",
      "\n",
      "False \n",
      "\n",
      "False \n",
      "\n",
      "A hairpin is too short.\n",
      "Error in input structure.\n",
      "False \n",
      "\n",
      "False\n"
     ]
    }
   ],
   "source": [
    "print('Should be True:')\n",
    "print(rna_ss_validator('GCAUCUAUGC', '(((....)))'))\n",
    "print(rna_ss_validator('GCAUCUAUGU', '(((....)))'))\n",
    "print(rna_ss_validator('GCAUCUAUGU', '(.(....).)'))\n",
    "print(rna_ss_validator('AUUGAUGCACGUGCAUCCCCAGCGGGUCCCGCGAGCUCACCCCCUUCCAAAAGCACCACGUGCCAGGCCUCGCCCCCGGAAGUAUACCUGUGAGCCAGA',\n",
    "                       '...(((((....)))))....((((...))))..((((((...(((((....((((...))))..(((...)))...))))).......))))))....'))\n",
    "\n",
    "print('\\nShould be False:')\n",
    "print(rna_ss_validator('GCAUCUACGC', '(((....)))'), '\\n')\n",
    "print(rna_ss_validator('GCAUCUAUGU', '(((....)))', wobble=False), '\\n')\n",
    "print(rna_ss_validator('GCAUCUAUGU', '(.(....)).'), '\\n')\n",
    "print(rna_ss_validator('GCCCUUGGCA', '(.((..))).'),'\\n')\n",
    "print(rna_ss_validator('AUUGAUGCACGUGCAUCCCCAGCGGGUCCCGCGAGCCCACCCCCUUCCAAAAGCACCACGUGCCAGGCCUCGCCCCCGGAAGUAUACCUGUGAGCCAGA',\n",
    "                       '...(((((....)))))....((((...))))..((((((...(((((....((((...))))..(((...)))...))))).......))))))....'))"
   ]
  },
  {
   "cell_type": "code",
   "execution_count": 85,
   "id": "1f873403-6f56-40cf-89b1-b0fe4c186c59",
   "metadata": {},
   "outputs": [
    {
     "data": {
      "text/plain": [
       "10"
      ]
     },
     "execution_count": 85,
     "metadata": {},
     "output_type": "execute_result"
    }
   ],
   "source": [
    "seq='GCAUCUAUGCC'\n",
    "bps[0][1]"
   ]
  },
  {
   "cell_type": "code",
   "execution_count": 87,
   "id": "df421f18-51a1-42b6-a047-f5f23a25610f",
   "metadata": {},
   "outputs": [
    {
     "name": "stdout",
     "output_type": "stream",
     "text": [
      "AC\n"
     ]
    },
    {
     "data": {
      "text/plain": [
       "True"
      ]
     },
     "execution_count": 87,
     "metadata": {},
     "output_type": "execute_result"
    }
   ],
   "source": [
    "pair=seq[bps[0][0]]+seq[bps[0][1]]\n",
    "print(pair)\n",
    "\n",
    "def is_right(pair):\n",
    "    if pair.lower() in ('ca', 'ac'):\n",
    "        return True\n",
    "    else: \n",
    "        print(\"not valid structure\")\n",
    "        return False\n",
    "is_right(pair)"
   ]
  }
 ],
 "metadata": {
  "kernelspec": {
   "display_name": "Python 3 (ipykernel)",
   "language": "python",
   "name": "python3"
  },
  "language_info": {
   "codemirror_mode": {
    "name": "ipython",
    "version": 3
   },
   "file_extension": ".py",
   "mimetype": "text/x-python",
   "name": "python",
   "nbconvert_exporter": "python",
   "pygments_lexer": "ipython3",
   "version": "3.11.5"
  }
 },
 "nbformat": 4,
 "nbformat_minor": 5
}
