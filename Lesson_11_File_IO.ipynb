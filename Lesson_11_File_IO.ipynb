{
 "cells": [
  {
   "cell_type": "markdown",
   "id": "39aba7bf-b8d4-4136-9c8b-ac2425a3c173",
   "metadata": {},
   "source": [
    "# Lesson 11: File and IO"
   ]
  },
  {
   "cell_type": "markdown",
   "id": "90c51df2-1974-4107-9551-2261adb169f4",
   "metadata": {},
   "source": [
    "## Reading file"
   ]
  },
  {
   "cell_type": "code",
   "execution_count": 47,
   "id": "e19e8483-1eb9-445d-a51b-cc31675843f6",
   "metadata": {},
   "outputs": [],
   "source": [
    "import os\n",
    "import glob"
   ]
  },
  {
   "cell_type": "code",
   "execution_count": 1,
   "id": "960c4d27-be3f-4671-a0f1-de67a5bb1df0",
   "metadata": {},
   "outputs": [
    {
     "name": "stdout",
     "output_type": "stream",
     "text": [
      "<class '_io.TextIOWrapper'>\n"
     ]
    }
   ],
   "source": [
    "with open('data/1OLG.pdb', 'r') as f:\n",
    "    print(type(f))"
   ]
  },
  {
   "cell_type": "code",
   "execution_count": 2,
   "id": "62f410e5-94d1-4b6f-b415-b18965bfed84",
   "metadata": {},
   "outputs": [
    {
     "data": {
      "text/plain": [
       "'HEADER    ANTI-ONCOGENE                           13-JUN-94   1OLG              \\nTITLE     HIGH-RESOLUTION SOLUTION STRUCTURE OF THE OLIGOMERIZATION             \\nTITLE    2 DOMAIN OF P53 BY MULTI-DIMENSIONAL NMR                               \\nCOMPND    MOL_ID: 1;                                                            \\nCOMPND   2 MOLECULE: TUMOR SUPPRESSOR P53 (OLIGOMERIZATION DOMAIN);             \\nCOMPND   3 CHAIN: A, B, C, D;                                                   \\nCOMPND   4 ENGINEERED: YES                                                      \\nSOURCE    MOL_ID: 1;                                                            \\nSOURCE   2 ORGANISM_SCIENTIFIC: HOMO SAPIENS;                                   \\nSOURCE   3 ORGANISM_COMMON: HUMAN;                                              \\nSOURCE   4 ORGANISM_TAXID: 9606                                                 \\nKEYWDS    ANTI-ONCOGENE                                                         \\nEXPDTA    SOLUTION NMR      '"
      ]
     },
     "execution_count": 2,
     "metadata": {},
     "output_type": "execute_result"
    }
   ],
   "source": [
    "# Read file into string\n",
    "with open('data/1OLG.pdb', 'r') as f:\n",
    "    f_str = f.read()\n",
    "\n",
    "# Let's look at the first 1000 characters\n",
    "f_str[:1000]"
   ]
  },
  {
   "cell_type": "code",
   "execution_count": 21,
   "id": "b3be0c00-a301-4184-a734-79b0ff96d227",
   "metadata": {},
   "outputs": [
    {
     "data": {
      "text/plain": [
       "['HEADER    ANTI-ONCOGENE                           13-JUN-94   1OLG              \\n',\n",
       " 'TITLE     HIGH-RESOLUTION SOLUTION STRUCTURE OF THE OLIGOMERIZATION             \\n',\n",
       " 'TITLE    2 DOMAIN OF P53 BY MULTI-DIMENSIONAL NMR                               \\n',\n",
       " 'COMPND    MOL_ID: 1;                                                            \\n',\n",
       " 'COMPND   2 MOLECULE: TUMOR SUPPRESSOR P53 (OLIGOMERIZATION DOMAIN);             \\n',\n",
       " 'COMPND   3 CHAIN: A, B, C, D;                                                   \\n',\n",
       " 'COMPND   4 ENGINEERED: YES                                                      \\n',\n",
       " 'SOURCE    MOL_ID: 1;                                                            \\n',\n",
       " 'SOURCE   2 ORGANISM_SCIENTIFIC: HOMO SAPIENS;                                   \\n',\n",
       " 'SOURCE   3 ORGANISM_COMMON: HUMAN;                                              \\n']"
      ]
     },
     "execution_count": 21,
     "metadata": {},
     "output_type": "execute_result"
    }
   ],
   "source": [
    "# Read contents of the file in as a list\n",
    "with open('data/1OLG.pdb', 'r') as f:\n",
    "    f_list = f.readlines()\n",
    "\n",
    "# Look at the list (first ten entries)\n",
    "f_list[:10]"
   ]
  },
  {
   "cell_type": "code",
   "execution_count": 4,
   "id": "09aac771-fb34-4707-a3db-7c92df55e322",
   "metadata": {},
   "outputs": [
    {
     "data": {
      "text/plain": [
       "'HEADER    ANTI-ONCOGENE                           13-JUN-94   1OLG'"
      ]
     },
     "execution_count": 4,
     "metadata": {},
     "output_type": "execute_result"
    }
   ],
   "source": [
    "#look at lines in a list, strips whitespace and newlines at end of a string\n",
    "f_list[0].rstrip()"
   ]
  },
  {
   "cell_type": "code",
   "execution_count": 20,
   "id": "9997d5bd-7d7e-47b5-80ab-318537140072",
   "metadata": {},
   "outputs": [
    {
     "name": "stdout",
     "output_type": "stream",
     "text": [
      "HEADER    ANTI-ONCOGENE                           13-JUN-94   1OLG\n",
      "TITLE     HIGH-RESOLUTION SOLUTION STRUCTURE OF THE OLIGOMERIZATION\n",
      "TITLE    2 DOMAIN OF P53 BY MULTI-DIMENSIONAL NMR\n",
      "COMPND    MOL_ID: 1;\n",
      "COMPND   2 MOLECULE: TUMOR SUPPRESSOR P53 (OLIGOMERIZATION DOMAIN);\n",
      "COMPND   3 CHAIN: A, B, C, D;\n",
      "COMPND   4 ENGINEERED: YES\n",
      "SOURCE    MOL_ID: 1;\n",
      "SOURCE   2 ORGANISM_SCIENTIFIC: HOMO SAPIENS;\n",
      "SOURCE   3 ORGANISM_COMMON: HUMAN;\n"
     ]
    }
   ],
   "source": [
    "# Print the first ten lines of the file\n",
    "with open('data/1OLG.pdb', 'r') as f:\n",
    "    i = 0\n",
    "    while i < 10:\n",
    "        print(f.readline().rstrip())\n",
    "        i += 1"
   ]
  },
  {
   "cell_type": "code",
   "execution_count": null,
   "id": "acdb342a-93c7-453c-923b-792bc26a203f",
   "metadata": {},
   "outputs": [],
   "source": []
  },
  {
   "cell_type": "markdown",
   "id": "ec5c364a-e2f7-4995-8d29-7c35114fd1a9",
   "metadata": {},
   "source": [
    "## Writing to a file"
   ]
  },
  {
   "cell_type": "code",
   "execution_count": null,
   "id": "d8a48173-cb81-4d91-8d5a-0f93dd928ab2",
   "metadata": {},
   "outputs": [],
   "source": [
    "#check if file exists\n",
    "os.path.isfile('data/1OLG.pdb')"
   ]
  },
  {
   "cell_type": "code",
   "execution_count": 6,
   "id": "9d779bd1-3d42-40d9-842e-c7f8c20ed858",
   "metadata": {},
   "outputs": [],
   "source": [
    "#creates a new file\n",
    "with open('yogi.txt', 'w') as f:\n",
    "    f.write('When you come to a fork in the road, take it.\\n')\n",
    "    f.write('You can observe a lot by just watching.\\n')\n",
    "    f.write('I never said most of the things I said.\\n')"
   ]
  },
  {
   "cell_type": "code",
   "execution_count": 11,
   "id": "62654e8f-6507-4805-b89a-345eadeb94b1",
   "metadata": {},
   "outputs": [
    {
     "name": "stdout",
     "output_type": "stream",
     "text": [
      "When you come to a fork in the road, take it.\n",
      "You can observe a lot by just watching.\n",
      "I never said most of the things I said.\n"
     ]
    }
   ],
   "source": [
    "cat yogi.txt"
   ]
  },
  {
   "cell_type": "code",
   "execution_count": 15,
   "id": "1d6cec82-b727-4e2e-9362-f47a63d9331b",
   "metadata": {},
   "outputs": [
    {
     "name": "stdout",
     "output_type": "stream",
     "text": [
      "Phi= 1.61803399.\n"
     ]
    }
   ],
   "source": [
    "phi=1.61803398875\n",
    "print(f'Phi= {phi:.8f}.')"
   ]
  },
  {
   "cell_type": "code",
   "execution_count": 17,
   "id": "5daeb9c0-7860-4721-b9d6-ffbbd11cec25",
   "metadata": {},
   "outputs": [
    {
     "name": "stdout",
     "output_type": "stream",
     "text": [
      "The golden ratio is φ = 1.61803399"
     ]
    }
   ],
   "source": [
    "with open('gimme_phi.txt', 'w') as f:\n",
    "    f.write('The golden ratio is φ = ')\n",
    "    f.write('{phi:.8f}'.format(phi=1.61803398875))\n",
    "\n",
    "!cat gimme_phi.txt"
   ]
  },
  {
   "cell_type": "code",
   "execution_count": 45,
   "id": "de8aa45f-65de-4efa-88d5-12f027f47485",
   "metadata": {},
   "outputs": [
    {
     "name": "stdout",
     "output_type": "stream",
     "text": [
      "<class '_io.TextIOWrapper'>\n"
     ]
    }
   ],
   "source": [
    "with open('data/1OLG.pdb', 'r') as f:\n",
    "    print(type(f))"
   ]
  },
  {
   "cell_type": "code",
   "execution_count": null,
   "id": "6756d0d0-b769-46ed-9303-0389f877763a",
   "metadata": {},
   "outputs": [],
   "source": [
    "with open('data/1OLG.pdb', 'r') as f, open('atoms_chain_A.txt', 'w') as f_out:\n",
    "    # Put the ATOM lines from chain A in new file\n",
    "    for line in f:\n",
    "        if len(line) > 21 and line[:4] == 'ATOM' and line[21] == 'A':\n",
    "            f_out.write(line)"
   ]
  },
  {
   "cell_type": "code",
   "execution_count": 48,
   "id": "2f0f9a5e-ea37-4e92-98e9-8d8f3a836694",
   "metadata": {},
   "outputs": [
    {
     "data": {
      "text/plain": [
       "['data/1OLG.pdb', 'data/1J6Z.pdb', 'data/1FAG.pdb', 'data/2ERK.pdb']"
      ]
     },
     "execution_count": 48,
     "metadata": {},
     "output_type": "execute_result"
    }
   ],
   "source": [
    "file_list = glob.glob('data/*.pdb')\n",
    "\n",
    "file_list"
   ]
  },
  {
   "cell_type": "code",
   "execution_count": null,
   "id": "379ca8a2-2cef-4cc7-b44f-878b83d38e9e",
   "metadata": {},
   "outputs": [],
   "source": [
    "# Dictionary to hold sequences\n",
    "seqs = {}\n",
    "\n",
    "# Loop through all matching files\n",
    "for file_name in file_list:\n",
    "    # Extract PDB ID\n",
    "    pdb_id = file_name[file_name.find('/')+1:file_name.rfind('.')] #index from first letter after \"/\" to last \".\"\n",
    "\n",
    "    # Initialize sequence string, which we build as we go along\n",
    "    seq = ''\n",
    "    with open(file_name, 'r') as f:\n",
    "    for line in f:\n",
    "        if len(line) > 11 and line[:6] == 'SEQRES' and line[11] == 'A':\n",
    "            seq += line[19:].rstrip() + ' '\n",
    "\n",
    "    # Build sequence with dash-joined three letter codes, use .split() to split seq by space, then use .join to join elements with '-'\n",
    "    seq = '-'.join(seq.split())\n",
    "\n",
    "    # Store in the dictionary (assign content of seq to pdb_id: seq in seqs dictionary)\n",
    "    seqs[pdb_id] = seq"
   ]
  }
 ],
 "metadata": {
  "kernelspec": {
   "display_name": "Python 3 (ipykernel)",
   "language": "python",
   "name": "python3"
  },
  "language_info": {
   "codemirror_mode": {
    "name": "ipython",
    "version": 3
   },
   "file_extension": ".py",
   "mimetype": "text/x-python",
   "name": "python",
   "nbconvert_exporter": "python",
   "pygments_lexer": "ipython3",
   "version": "3.11.5"
  }
 },
 "nbformat": 4,
 "nbformat_minor": 5
}
