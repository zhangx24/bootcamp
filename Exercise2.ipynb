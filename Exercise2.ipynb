{
 "cells": [
  {
   "cell_type": "markdown",
   "id": "6a7c3970-4037-441f-aed4-c68ac2ac372e",
   "metadata": {},
   "source": [
    "# Exercise 2"
   ]
  },
  {
   "cell_type": "markdown",
   "id": "b74ef4ea-a891-4eb6-bb5a-c95e34884980",
   "metadata": {},
   "source": [
    "## 2.1b)"
   ]
  },
  {
   "cell_type": "code",
   "execution_count": 1,
   "id": "7384944e-55ee-4ba5-85d0-028b25b33ae1",
   "metadata": {},
   "outputs": [],
   "source": [
    "import os\n",
    "import glob"
   ]
  },
  {
   "cell_type": "code",
   "execution_count": 1,
   "id": "31cd6d29-1f46-4331-9fcb-05f19153ca87",
   "metadata": {},
   "outputs": [],
   "source": [
    "# Print the first ten lines of the file\n",
    "def read_FASTA (filename):\n",
    "    s1 = ''\n",
    "    s2 = ''\n",
    "    with open(filename, 'r') as f:\n",
    "        f_line = f.readlines()\n",
    "        for i in range(0,len(f_line)):\n",
    "            if i == 0: \n",
    "                s1 = f_line[0].rstrip()\n",
    "                i += 1\n",
    "            else: \n",
    "                s2 += f_line[i].rstrip() + ' '\n",
    "                i += 1\n",
    "        s2 = ''.join(s2.split())\n",
    "    return s1, s2"
   ]
  },
  {
   "cell_type": "code",
   "execution_count": 8,
   "id": "63620776-a4e2-4c45-9365-e972d44e6b8b",
   "metadata": {},
   "outputs": [
    {
     "data": {
      "text/plain": [
       "'AAAACCTTAGTAACTGGACTGCTGGGATTTTTCAGCCTGGATACGCTGGTAGATCTCTTC'"
      ]
     },
     "execution_count": 8,
     "metadata": {},
     "output_type": "execute_result"
    }
   ],
   "source": [
    "f_line[1].rstrip()"
   ]
  },
  {
   "cell_type": "code",
   "execution_count": 61,
   "id": "a2600d67-c516-4828-87a0-101116ef91ec",
   "metadata": {},
   "outputs": [
    {
     "data": {
      "text/plain": [
       "'AAAACCTTAGTAACTGGACTGCTGGGATTTTTCAGCCTGGATACGCTGGTAGATCTCTTCACGATGGACAGAAACTTCTTTCGGGGCGTTCACGCCAATACGCACCTGGTTGCCCTTCACCCCTAAAACTGTCACGGTGACCTCATCGCCAATCATGAGGGTCTCACCAACTCGACGAGTCAGAATCAGCATTCTTTGCTCCTTGAAAGATTAAAAGAGTCGGGTCTCTCTGTATCCCGGCATTATCCATCATATAACGCCAAAAAGTAAGCGATGACAAACACCTTAGGTGTAAGCAGTCATGGCATTACATTCTGTTAAACCTAAGTTTAGCCGATATACAAAACTTCAACCTGACTTTATCGTTGTCGATAGCGTTGACGTAAACGCCGCAGCACGGGCTGCGGCGCCAACGAACGCTTATAATTATTGCAATTTTGCGCTGACCCAGCCTTGTACACTGGCTAACGCTGCAGGCAGAGCTGCCGCATCCGTACCAC'"
      ]
     },
     "execution_count": 61,
     "metadata": {},
     "output_type": "execute_result"
    }
   ],
   "source": [
    "s1, s2 = read_FASTA ('data/salmonella_spi1_region.fna')\n",
    "s2 [:500]"
   ]
  },
  {
   "cell_type": "markdown",
   "id": "43aca290-92e8-4089-bdee-52c61c699a9f",
   "metadata": {},
   "source": [
    "## 2.2 a)"
   ]
  },
  {
   "cell_type": "code",
   "execution_count": 2,
   "id": "2c980820-8152-44b0-b0e4-0e7cce9b5825",
   "metadata": {},
   "outputs": [],
   "source": [
    "descriptor, seq = read_FASTA('data/lambda.fsa')"
   ]
  },
  {
   "cell_type": "code",
   "execution_count": 4,
   "id": "ff8d15af-27cb-4cce-a69b-75d1b6cce394",
   "metadata": {},
   "outputs": [
    {
     "data": {
      "text/plain": [
       "'GGGCGGCGACCTCGCGGGTTTTCGCTATTTATGAAAATTTTCCGGTTTAAGGCGTTTCCGTTCTTCTTCGTCATAACTTAATGTTTTTATTTAAAATACC'"
      ]
     },
     "execution_count": 4,
     "metadata": {},
     "output_type": "execute_result"
    }
   ],
   "source": [
    "seq[:100]"
   ]
  },
  {
   "cell_type": "code",
   "execution_count": 10,
   "id": "b17eba5f-853a-4a75-bea6-2945690c6714",
   "metadata": {},
   "outputs": [],
   "source": [
    "Hind = 'AAGCTT'\n",
    "EcoRI = 'GAATTC'\n",
    "Kpnl = 'GGATCC'"
   ]
  },
  {
   "cell_type": "code",
   "execution_count": 33,
   "id": "b61d0378-1614-4ab9-8a0e-f4dc3c73b1ea",
   "metadata": {},
   "outputs": [
    {
     "data": {
      "text/plain": [
       "23129"
      ]
     },
     "execution_count": 33,
     "metadata": {},
     "output_type": "execute_result"
    }
   ],
   "source": [
    "seq.find(Hind)"
   ]
  },
  {
   "cell_type": "code",
   "execution_count": 35,
   "id": "fa1db5fa-e29c-47e4-b8b8-f938e699e030",
   "metadata": {},
   "outputs": [
    {
     "data": {
      "text/plain": [
       "'AAGCTT'"
      ]
     },
     "execution_count": 35,
     "metadata": {},
     "output_type": "execute_result"
    }
   ],
   "source": [
    "seq[23129:23135]"
   ]
  },
  {
   "cell_type": "code",
   "execution_count": 39,
   "id": "8f042aa8-5eb4-458f-a0e7-5033b3da3b86",
   "metadata": {},
   "outputs": [],
   "source": [
    "restriction_site = []\n",
    "for i in range(0,len(seq)+1): \n",
    "    if seq[i:i+6] == Hind: \n",
    "        restriction_site.append(i)\n",
    "        i += 1\n",
    "    else: \n",
    "        i += 1"
   ]
  },
  {
   "cell_type": "code",
   "execution_count": 40,
   "id": "a5907768-052e-4f6b-a07c-45a74e8cfd93",
   "metadata": {},
   "outputs": [
    {
     "data": {
      "text/plain": [
       "[23129, 25156, 27478, 36894, 37458, 37583, 44140]"
      ]
     },
     "execution_count": 40,
     "metadata": {},
     "output_type": "execute_result"
    }
   ],
   "source": [
    "restriction_site"
   ]
  }
 ],
 "metadata": {
  "kernelspec": {
   "display_name": "Python 3 (ipykernel)",
   "language": "python",
   "name": "python3"
  },
  "language_info": {
   "codemirror_mode": {
    "name": "ipython",
    "version": 3
   },
   "file_extension": ".py",
   "mimetype": "text/x-python",
   "name": "python",
   "nbconvert_exporter": "python",
   "pygments_lexer": "ipython3",
   "version": "3.11.5"
  }
 },
 "nbformat": 4,
 "nbformat_minor": 5
}
